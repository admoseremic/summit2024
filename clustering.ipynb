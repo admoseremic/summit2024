{
 "cells": [
  {
   "cell_type": "markdown",
   "metadata": {},
   "source": [
    "First let's pull the data in a format that can be used for clustering and propensity modeling."
   ]
  },
  {
   "cell_type": "code",
   "execution_count": null,
   "metadata": {},
   "outputs": [],
   "source": [
    "# Config\n",
    "import cjapy\n",
    "cjapy.importConfigFile(\"python_config.json\")\n",
    "cja = cjapy.CJA()\n",
    "data_view = \"dv_62ba17d5a5d7845496f5fb4d\"\n",
    "dateRange = \"2024-01-01T00:00:00.000/2024-01-17T00:00:00.000\"\n",
    "\n",
    "# Define the report request with important/interesting/differentiating metrics\n",
    "myRequest = cjapy.RequestCreator()\n",
    "myRequest.setDataViewId(data_view)\n",
    "myRequest.setDimension(\"variables/adobe_personid\")\n",
    "myRequest.addMetric(\"metrics/orders\")\n",
    "myRequest.addMetric(\"metrics/revenue\")\n",
    "myRequest.addMetric(\"metrics/visits\")\n",
    "myRequest.addMetric(\"metrics/occurrences\")\n",
    "myRequest.addMetric(\"metrics/adobe_timespent\")\n",
    "myRequest.addGlobalFilter(dateRange)\n",
    "\n",
    "# Pull and print the report from CJA\n",
    "myReport = cja.getReport(myRequest)\n",
    "myReport.dataframe"
   ]
  },
  {
   "cell_type": "markdown",
   "metadata": {},
   "source": [
    "Now let's feed this data into a clustering model. There are many types of clustering approaches and we don't have time to go through all of them in this lab, but there are some excellent resources here:\n",
    "https://sites.northwestern.edu/researchcomputing/2022/03/14/online-learning-resources-clustering/"
   ]
  },
  {
   "cell_type": "code",
   "execution_count": null,
   "metadata": {},
   "outputs": [],
   "source": [
    "from sklearn.cluster import DBSCAN\n",
    "from sklearn.manifold import TSNE\n",
    "import pandas as pd\n",
    "import plotly.express as px\n",
    "\n",
    "# Drop the 'personid' column to create a DataFrame with only numerical columns\n",
    "df = myReport.dataframe.drop(columns=[\"itemId\"])\n",
    "X = myReport.dataframe.drop(columns=['variables/adobe_personid', \"itemId\"])\n",
    "\n",
    "# Create t-SNE instance\n",
    "tsne = TSNE(n_components=2)\n",
    "\n",
    "# Apply t-SNE\n",
    "X_tsne = tsne.fit_transform(X)\n",
    "\n",
    "# Convert the t-SNE results to a DataFrame\n",
    "df_tsne = pd.DataFrame(X_tsne, columns=['tsne_1', 'tsne_2'])"
   ]
  },
  {
   "cell_type": "markdown",
   "metadata": {},
   "source": [
    "Let's visualize what these transformed columns look like - tSNE was designed for easily visualizing multi-dimensional vectors in two dimensions."
   ]
  },
  {
   "cell_type": "code",
   "execution_count": null,
   "metadata": {},
   "outputs": [],
   "source": [
    "# Create the scatter plot\n",
    "fig = px.scatter(df_tsne, x='tsne_1', y='tsne_2', title='t-SNE Visualization')\n",
    "fig.update_xaxes(scaleanchor=\"y\", scaleratio=1)\n",
    "fig.update_yaxes(scaleanchor=\"x\", scaleratio=1)\n",
    "fig.update_layout(height=600)\n",
    "\n",
    "# Show the plot\n",
    "fig.show()"
   ]
  },
  {
   "cell_type": "markdown",
   "metadata": {},
   "source": [
    "With the transformed data, we can now cluster the data more easily"
   ]
  },
  {
   "cell_type": "code",
   "execution_count": null,
   "metadata": {},
   "outputs": [],
   "source": [
    "# Create DBSCAN instance (you can customize parameters like eps and min_samples)\n",
    "dbscan = DBSCAN(eps=4.0, min_samples=20)\n",
    "\n",
    "# Fit DBSCAN to the t-SNE results\n",
    "dbscan.fit(df_tsne)\n",
    "\n",
    "# Add the cluster labels to the original DataFrame\n",
    "df['cluster'] = dbscan.labels_\n",
    "\n",
    "# Convert the 'cluster' column to a categorical type\n",
    "df['cluster'] = df['cluster'].astype('category')\n",
    "df = pd.concat([df, df_tsne], axis=1)\n",
    "\n",
    "# Create the scatter plot\n",
    "fig = px.scatter(df, x='tsne_1', y='tsne_2', color='cluster', title='t-SNE Visualization with DBSCAN Clusters')\n",
    "fig.update_xaxes(scaleanchor=\"y\", scaleratio=1)\n",
    "fig.update_yaxes(scaleanchor=\"x\", scaleratio=1)\n",
    "fig.update_layout(height=600)\n",
    "\n",
    "# Show the plot\n",
    "fig.show()"
   ]
  },
  {
   "cell_type": "markdown",
   "metadata": {},
   "source": [
    "Now we can visualize how each of these clusters perform on a specific metric like revenue"
   ]
  },
  {
   "cell_type": "code",
   "execution_count": null,
   "metadata": {},
   "outputs": [],
   "source": [
    "# Create the 3D scatter plot\n",
    "fig = px.scatter_3d(df, x='tsne_1', y='tsne_2', z='metrics/revenue', color='cluster', title='3D t-SNE Visualization with DBSCAN Clusters')\n",
    "fig.update_layout(height=700)\n",
    "\n",
    "# Show the plot\n",
    "fig.show()"
   ]
  }
 ],
 "metadata": {
  "kernelspec": {
   "display_name": "Python 3",
   "language": "python",
   "name": "python3"
  },
  "language_info": {
   "codemirror_mode": {
    "name": "ipython",
    "version": 3
   },
   "file_extension": ".py",
   "mimetype": "text/x-python",
   "name": "python",
   "nbconvert_exporter": "python",
   "pygments_lexer": "ipython3",
   "version": "3.11.6"
  }
 },
 "nbformat": 4,
 "nbformat_minor": 2
}
