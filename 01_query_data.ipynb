{
 "cells": [
  {
   "cell_type": "markdown",
   "metadata": {},
   "source": [
    "## Section 1: Setting Up Credentials for CJA Data Queries\n",
    "\n",
    "In this first step of our journey through Adobe's Customer Journey Analytics (CJA), we establish the essential connection credentials. We'll cover two primary methods for querying data:\n",
    "1. **Via the Reporting API**: Using the `cjapy` library, a powerful tool created by [Julien Piccini](https://github.com/pitchmuc/cjapy), to directly interface with the CJA Reporting API.\n",
    "2. **Via the PostgreSQL Connector**: A method preferred by SQL enthusiasts, utilizing SQL queries through the CJA BI Extension for data retrieval.\n",
    "\n",
    "### Preparing for JWT Authentication\n",
    "For this exercise, we've pre-configured the JWT authentication setup for you. However, for your own projects, you'll need to set up an Adobe Console API project for each organization you wish to access. Here are the steps you'd typically follow to create an API client in the Adobe Developer Console:\n",
    "\n",
    "1. Go to [console.adobe.io](https://console.adobe.io/) and ensure you're logged into the correct Adobe organization.\n",
    "2. Start a **new project** and **add the CJA API** to it.\n",
    "3. **Generate a keypair**; this action downloads a `config.zip` file containing your private key. Securely store this file.\n",
    "4. After generating the keypair, select the product profiles required for your API access and save your configured API.\n",
    "5. If you're also using the Adobe Experience Platform API, add it to your project without generating a new keypair.\n",
    "6. Locate the **Service Account (JWT)** section under **CREDENTIALS** and either download the service account JSON file or create one manually with your credentials.\n",
    "\n",
    "### Reporting API Setup with cjapy\n",
    "For querying the CJA Reporting API, we utilize the `cjapy` library. Ensure you have a `python_config.json` file prepared with the following credentials:\n",
    "- `org_id`: Your Adobe Org ID.\n",
    "- `client_id`: The client ID provided by Adobe.\n",
    "- `secret`: Your client secret.\n",
    "- `tech_id`: The technical account ID.\n",
    "- `pathToKey`: The file path to your private key.\n",
    "\n",
    "This initial setup ensures we can securely and efficiently access CJA for our data analysis tasks."
   ]
  },
  {
   "cell_type": "code",
   "execution_count": null,
   "metadata": {},
   "outputs": [],
   "source": [
    "# Thanks to Julien Piccini for his hard work on the cjapy library!\n",
    "import cjapy\n",
    "'''\n",
    "    For using cjapy, you'll need a config file that contains the following:\n",
    "    {\n",
    "        \"org_id\": \"YOURORGID@AdobeOrg\",\n",
    "        \"client_id\": \"YOURCLIENTID\",\n",
    "        \"secret\": \"YOURCLIENTSECRET\",\n",
    "        \"tech_id\": \"YOURTECHID@techacct.adobe.com\",\n",
    "        \"pathToKey\":\"path_to_private.key\"\n",
    "    }\n",
    "'''\n",
    "\n",
    "# Instantiate cjapy\n",
    "cjapy.importConfigFile(\"python_config.json\")\n",
    "\n",
    "cja = cjapy.CJA()"
   ]
  },
  {
   "cell_type": "markdown",
   "metadata": {},
   "source": [
    "## Section 2: Exploring Data Views in CJA\n",
    "\n",
    "Once our credentials are set, the next logical step is to identify the Data Views available to us in Customer Journey Analytics (CJA). Data Views are essentially lenses through which we can examine our collected data, each configured with specific dimensions and metrics to suit various analysis needs.\n",
    "\n",
    "### Identifying Available Data Views\n",
    "Understanding the Data Views accessible to us is crucial for tailoring our data queries accurately. This process involves listing all Data Views and selecting the one most relevant to our analysis goals.\n",
    "\n",
    "Follow these steps to list and select your desired Data View:\n",
    "1. Retrieve a list of all available Data Views using the CJA API.\n",
    "2. Review the list to identify the Data View that best matches your analysis criteria.\n",
    "3. Note the ID of your chosen Data View for subsequent queries."
   ]
  },
  {
   "cell_type": "code",
   "execution_count": null,
   "metadata": {},
   "outputs": [],
   "source": [
    "# Retrieve a list of all available Data Views\n",
    "data_views = cja.getDataViews()\n",
    "\n",
    "# Print each Data View's name and ID for easy identification\n",
    "print(\"Available Data Views:\")\n",
    "for index, row in data_views.iterrows():\n",
    "    print(f\"Data View Name: {row['name']}, Data View ID: {row['id']}\")\n",
    "\n",
    "# Example: Selecting a specific Data View by its ID for further queries\n",
    "data_view_id = \"dv_62ba17d5a5d7845496f5fb4d\"  # Replace with the ID of your chosen Data View\n",
    "print(f\"\\nSelected Data View ID for Analysis: {data_view_id}\")"
   ]
  },
  {
   "cell_type": "markdown",
   "metadata": {},
   "source": [
    "## Section 3: Discovering Metrics and Dimensions\n",
    "\n",
    "A critical step in our data analysis journey is understanding the metrics and dimensions available within our chosen Data View in CJA. This knowledge allows us to tailor our data queries more effectively, ensuring we extract the most relevant insights.\n",
    "\n",
    "### Exploring Available Metrics\n",
    "Metrics, such as page views, orders, or time spent, quantify user interactions and behaviors. Identifying the available metrics helps in shaping our analysis and choosing the right parameters for our reports.\n",
    "\n",
    "### Identifying Available Dimensions\n",
    "Dimensions provide context to our metrics, such as product names, user IDs, or geographic locations. By exploring available dimensions, we can segment our data in meaningful ways, offering deeper analytical insights.\n",
    "\n",
    "Let's use the `cjapy` library to list the metrics and dimensions available in our selected Data View, setting the stage for targeted and informed data queries."
   ]
  },
  {
   "cell_type": "code",
   "execution_count": null,
   "metadata": {},
   "outputs": [],
   "source": [
    "# Grab all available metrics for the specified Data View\n",
    "metrics = cja.getMetrics(data_view_id)\n",
    "\n",
    "# Print the name and ID of each metric\n",
    "print(\"Available Metrics:\")\n",
    "for index, row in metrics.iterrows():\n",
    "    print(f\"Metric: {row['name']}, ID: {row['id']}\")\n",
    "\n",
    "# Grab all available dimensions for the specified Data View\n",
    "dimensions = cja.getDimensions(data_view_id)\n",
    "\n",
    "# Print the name and ID of each dimension\n",
    "print(\"\\nAvailable Dimensions:\")\n",
    "for index, row in dimensions.iterrows():\n",
    "    print(f\"Dimension: {row['name']}, ID: {row['id']}\")"
   ]
  },
  {
   "cell_type": "markdown",
   "metadata": {},
   "source": [
    "## Section 4: Retrieving Orders by Product Name\n",
    "\n",
    "In this section, we'll delve into extracting specific data from CJA — namely, the number of orders by product name. This example serves as a foundation for querying different metrics and dimensions. Feel encouraged to explore additional data ranges, metrics, or dimensions to suit your analytical needs.\n",
    "\n",
    "### Crafting the Report Request\n",
    "Our goal is to construct a report request that targets a specific dimension (`product_name`) and metric (`orders`) over a defined date range. This process involves:\n",
    "1. Selecting the desired dimension and metric for the report.\n",
    "2. Defining the date range for our data query.\n",
    "3. Utilizing the `cjapy` library to construct and send the report request to CJA.\n",
    "4. Extracting and displaying the report data in a readable format.\n",
    "\n",
    "This approach allows us to analyze product performance, guiding strategic decisions based on order volume."
   ]
  },
  {
   "cell_type": "code",
   "execution_count": null,
   "metadata": {},
   "outputs": [],
   "source": [
    "from cjapy import RequestCreator\n",
    "import pandas as pd\n",
    "\n",
    "# Define the dimension and metric of interest\n",
    "dimension = \"variables/product_name\"\n",
    "metric = \"metrics/orders\"\n",
    "dateRange = \"2024-01-01T00:00:00.000/2024-01-17T00:00:00.000\"\n",
    "\n",
    "# Initialize the report request with the specified Data View ID\n",
    "myRequest = RequestCreator()\n",
    "myRequest.setDataViewId(data_view_id)\n",
    "myRequest.setDimension(dimension)\n",
    "myRequest.addMetric(metric)\n",
    "myRequest.addGlobalFilter(dateRange)\n",
    "\n",
    "# Execute the report request and retrieve the data\n",
    "myReport = cja.getReport(myRequest)\n",
    "report_df = myReport.dataframe[[dimension, metric]]\n",
    "\n",
    "# Display the first few rows of the report dataframe to verify the data\n",
    "print(report_df.head(10))"
   ]
  },
  {
   "cell_type": "markdown",
   "metadata": {},
   "source": [
    "## Section 5: Querying CJA with SQL via the BI Extension\n",
    "\n",
    "SQL enthusiasts have a robust alternative to the `cjapy` library for querying data from Adobe's Customer Journey Analytics (CJA) — the BI Extension. This section illuminates the process of leveraging SQL for data retrieval, highlighting its familiarity and adaptability for comprehensive data analysis.\n",
    "\n",
    "### Adobe Query Service Credentials Overview\n",
    "\n",
    "Adobe Experience Platform Query Service provides two types of credentials to facilitate secure connections to external clients:\n",
    "\n",
    "- **Expiring Credentials**: Offer a quick setup for temporary access with a default 24-hour validity. Ideal for short-term projects or exploratory data analysis.\n",
    "- **Non-Expiring Credentials**: Suited for enduring connections, necessitating configuration via the Adobe Admin Console for ongoing data access.\n",
    "\n",
    "**Important Note**: The credentials panel may not be immediately accessible and might require coordination with your admin or Adobe account team for activation. For a detailed guide on generating and managing these credentials, refer to the [official Adobe documentation](https://experienceleague.adobe.com/docs/experience-platform/query/ui/credentials.html?lang=en).\n",
    "\n",
    "### Setting Up SQL Connection\n",
    "\n",
    "For our lab, we've preconfigured the SQL connection using credentials from the Adobe Developer Console, enabling a seamless and secure setup for executing SQL queries within the CJA BI Extension and added these to the Python config file.\n",
    "\n",
    "### Performing SQL Queries\n",
    "\n",
    "Our focus will be on executing an SQL query to summarize orders by product name, showcasing SQL's robust capabilities for data manipulation and analysis. This practical example aims to demonstrate the versatility of SQL in extracting and analyzing CJA data, providing a powerful alternative to traditional API-based queries."
   ]
  },
  {
   "cell_type": "code",
   "execution_count": null,
   "metadata": {},
   "outputs": [],
   "source": [
    "from sqlalchemy import create_engine\n",
    "import json\n",
    "\n",
    "# Load credentials from the previously prepared JSON file\n",
    "with open('python_config.json', 'r') as file:\n",
    "    config = json.load(file)\n",
    "\n",
    "# Setup database connection details\n",
    "username = config[\"PostgreSQL_username\"]\n",
    "password = config[\"PostgreSQL_password\"]\n",
    "host = 'acxpevangelist.platform-query.adobe.io'\n",
    "port = 80\n",
    "dbname = 'prod:cja'\n",
    "\n",
    "# Create the database engine for the connection\n",
    "engine = create_engine(f'postgresql://{username}:{password}@{host}:{port}/{dbname}')\n",
    "\n",
    "# Define and execute the SQL query\n",
    "query = \"\"\"\n",
    "    SELECT product_name, SUM(orders) AS orders, SUM(product_views) AS product_views\n",
    "    FROM adobe_store\n",
    "    GROUP BY product_name\n",
    "    ORDER BY orders DESC\n",
    "\"\"\"\n",
    "\n",
    "# Execute the query and read the results into a DataFrame\n",
    "df = pd.read_sql(query, engine)\n",
    "\n",
    "# Display the query results\n",
    "print(df.head())"
   ]
  }
 ],
 "metadata": {
  "kernelspec": {
   "display_name": "Python 3",
   "language": "python",
   "name": "python3"
  },
  "language_info": {
   "codemirror_mode": {
    "name": "ipython",
    "version": 3
   },
   "file_extension": ".py",
   "mimetype": "text/x-python",
   "name": "python",
   "nbconvert_exporter": "python",
   "pygments_lexer": "ipython3",
   "version": "3.11.6"
  }
 },
 "nbformat": 4,
 "nbformat_minor": 2
}
