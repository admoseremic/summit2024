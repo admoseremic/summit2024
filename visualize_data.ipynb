{
 "cells": [
  {
   "cell_type": "markdown",
   "metadata": {},
   "source": [
    "This code snippet imports the necessary modules and libraries for data analysis and visualization in Python. It then sets up the configuration and initializes the CJA (CJ Analytics) object. The code also specifies a particular Data View ID for further data processing and analysis."
   ]
  },
  {
   "cell_type": "code",
   "execution_count": 100,
   "metadata": {},
   "outputs": [],
   "source": [
    "import cjapy\n",
    "from datetime import datetime, timedelta  # Import datetime module\n",
    "import plotly.graph_objs as go\n",
    "import json\n",
    "\n",
    "# Instantiate cjapy\n",
    "cjapy.importConfigFile(\"python_config.json\")\n",
    "cja = cjapy.CJA()\n",
    "\n",
    "# Set the Data View id we want into a variable\n",
    "data_view = \"dv_62ba17d5a5d7845496f5fb4d\""
   ]
  },
  {
   "cell_type": "markdown",
   "metadata": {},
   "source": [
    "First we need to convert the day of the year to a specific date and retrieve a report using the cjapy library. It defines a function to convert the day of the year to a date, sets the dimension and metric for the report, and defines the date range for the report. The script then pulls the report from CJA, converts the day of the year to a date in the dataframe, sorts the dataframe by date, and converts the \"metrics/orders\" column to whole numbers. Finally, it prints the sorted dataframe with the dimension and metric."
   ]
  },
  {
   "cell_type": "code",
   "execution_count": null,
   "metadata": {},
   "outputs": [],
   "source": [
    "# Function to convert day of year to date\n",
    "def day_of_year_to_date(year, day_of_year):\n",
    "    day_of_year = int(day_of_year)  # Convert to integer\n",
    "    return (datetime(year, 1, 1) + timedelta(day_of_year - 1)).strftime('%Y-%m-%d')\n",
    "\n",
    "# Pick dimension and metric\n",
    "dimension = \"variables/timepartdayofyear\"\n",
    "metric = \"metrics/orders\"\n",
    "dateRange = \"2024-01-01T00:00:00.000/2024-01-31T00:00:00.000\"\n",
    "\n",
    "# Define the report request\n",
    "myRequest = cjapy.RequestCreator()\n",
    "myRequest.setDataViewId(data_view)\n",
    "myRequest.setDimension(dimension)\n",
    "myRequest.addMetric(metric)\n",
    "myRequest.addGlobalFilter(dateRange)\n",
    "\n",
    "# Pull and print the report from CJA\n",
    "myReport = cja.getReport(myRequest)\n",
    "\n",
    "# Convert day of year to date and sort the dataframe\n",
    "sorted_df = myReport.dataframe.copy()\n",
    "sorted_df[dimension] = sorted_df[dimension].apply(lambda x: day_of_year_to_date(2024, x))\n",
    "sorted_df.sort_values(by=dimension, inplace=True)\n",
    "\n",
    "# Convert \"metrics/orders\" column to whole numbers\n",
    "sorted_df[metric] = sorted_df[metric].astype(int)\n",
    "\n",
    "# Print the sorted dataframe with dimension and metric\n",
    "print(sorted_df[[dimension, metric]])"
   ]
  },
  {
   "cell_type": "markdown",
   "metadata": {},
   "source": [
    "This code snippet defines data for a plot and creates a line plot using the defined data. Using plotly it visualizes the trend of orders over time by day, with the x-axis representing dates and the y-axis representing the number of orders."
   ]
  },
  {
   "cell_type": "code",
   "execution_count": null,
   "metadata": {},
   "outputs": [],
   "source": [
    "# Define data for the plot\n",
    "x_values = sorted_df[dimension]\n",
    "y_values = sorted_df[metric]\n",
    "\n",
    "# Create a line plot\n",
    "fig = go.Figure()\n",
    "fig.add_trace(go.Scatter(x=x_values, y=y_values, mode='lines+markers', name=metric))\n",
    "\n",
    "# Update layout\n",
    "fig.update_layout(title='Orders Over Time',\n",
    "                   xaxis_title='Date',\n",
    "                   yaxis_title='Orders')\n",
    "\n",
    "# Show plot\n",
    "fig.show()"
   ]
  },
  {
   "cell_type": "markdown",
   "metadata": {},
   "source": [
    "This code snippet defines data for a plot and creates a bar plot using the defined data. Using plotly it visualizes the trend of orders over time by day, with the x-axis representing dates and the y-axis representing the number of orders."
   ]
  },
  {
   "cell_type": "code",
   "execution_count": null,
   "metadata": {},
   "outputs": [],
   "source": [
    "# Define data for the plot\n",
    "x_values = sorted_df[dimension]\n",
    "y_values = sorted_df[metric]\n",
    "\n",
    "# Create a bar chart\n",
    "fig = go.Figure()\n",
    "fig.add_trace(go.Bar(x=x_values, y=y_values, name=metric))\n",
    "\n",
    "# Update layout\n",
    "fig.update_layout(title='Orders Over Time',\n",
    "                   xaxis_title='Date',\n",
    "                   yaxis_title='Orders')\n",
    "\n",
    "# Show plot\n",
    "fig.show()\n"
   ]
  },
  {
   "cell_type": "markdown",
   "metadata": {},
   "source": [
    "This code snippet defines data for a plot and creates a scatter plot using the defined data. Using plotly it visualizes the trend of orders over time by day, with the x-axis representing dates and the y-axis representing the number of orders."
   ]
  },
  {
   "cell_type": "code",
   "execution_count": null,
   "metadata": {},
   "outputs": [],
   "source": [
    "# Define data for the plot\n",
    "x_values = sorted_df[dimension]\n",
    "y_values = sorted_df[metric]\n",
    "\n",
    "# Create a scatter plot with markers only\n",
    "fig = go.Figure()\n",
    "fig.add_trace(go.Scatter(x=x_values, y=y_values, mode='markers', name=metric))\n",
    "\n",
    "# Update layout\n",
    "fig.update_layout(title='Orders Over Time',\n",
    "                   xaxis_title='Date',\n",
    "                   yaxis_title='Orders')\n",
    "\n",
    "# Show plot\n",
    "fig.show()\n"
   ]
  }
 ],
 "metadata": {
  "kernelspec": {
   "display_name": "Python 3",
   "language": "python",
   "name": "python3"
  },
  "language_info": {
   "codemirror_mode": {
    "name": "ipython",
    "version": 3
   },
   "file_extension": ".py",
   "mimetype": "text/x-python",
   "name": "python",
   "nbconvert_exporter": "python",
   "pygments_lexer": "ipython3",
   "version": "3.9.6"
  }
 },
 "nbformat": 4,
 "nbformat_minor": 2
}
