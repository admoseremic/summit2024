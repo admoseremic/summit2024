{
 "cells": [
  {
   "cell_type": "markdown",
   "metadata": {},
   "source": [
    "First, let's set up all of our credentials for querying data from CJA. We're going to do this in two different ways - via the reporting API, and via the new PostgreSQL connector. Let's start with the reporting API, handled via cjapy courtesy of Julien Piccini."
   ]
  },
  {
   "cell_type": "code",
   "execution_count": null,
   "metadata": {},
   "outputs": [],
   "source": [
    "# Thanks to Julien Piccini for his hard work on the cjapy library!\n",
    "import cjapy\n",
    "'''\n",
    "    For using cjapy, you'll need a config file that contains the following:\n",
    "    {\n",
    "        \"org_id\": \"YOURORGID@AdobeOrg\",\n",
    "        \"client_id\": \"YOURCLIENTID\",\n",
    "        \"secret\": \"YOURCLIENTSECRET\",\n",
    "        \"tech_id\": \"YOURTECHID@techacct.adobe.com\",\n",
    "        \"pathToKey\":\"path_to_private.key\"\n",
    "    }\n",
    "'''\n",
    "\n",
    "# Instantiate cjapy\n",
    "cjapy.importConfigFile(\"python_config.json\")\n",
    "\n",
    "cja = cjapy.CJA()"
   ]
  },
  {
   "cell_type": "markdown",
   "metadata": {},
   "source": [
    "Check to see which Data Views you have available and grab the id of the Data View you want."
   ]
  },
  {
   "cell_type": "code",
   "execution_count": null,
   "metadata": {},
   "outputs": [],
   "source": [
    "# Get a list of all the Data Views available\n",
    "data_views = cja.getDataViews()\n",
    "\n",
    "# Extract and print the name and ID\n",
    "for index, row in data_views.iterrows():\n",
    "    print(f\"Data View Name: {row['name']}, Data View ID: {row['id']}\")\n",
    "\n",
    "# Set the Data View id we want into a variable\n",
    "data_view = \"dv_62ba17d5a5d7845496f5fb4d\""
   ]
  },
  {
   "cell_type": "markdown",
   "metadata": {},
   "source": [
    "You can also see which metrics and dimensions you have to work with using the getDimensions and getMetrics functions"
   ]
  },
  {
   "cell_type": "code",
   "execution_count": null,
   "metadata": {},
   "outputs": [],
   "source": [
    "# Grab all available metrics\n",
    "metrics = cja.getMetrics(data_view)\n",
    "\n",
    "# Extract and print the metric name and ID\n",
    "for index, row in metrics.iterrows():\n",
    "    print(f\"Metric: {row['name']}, ID: {row['id']}\")\n",
    "\n",
    "# Grab all available dimensions\n",
    "dimensions = cja.getDimensions(data_view)\n",
    "\n",
    "# Extract and print the dimension name and ID\n",
    "for index, row in dimensions.iterrows():\n",
    "    print(f\"Dimension: {row['name']}, ID: {row['id']}\")"
   ]
  },
  {
   "cell_type": "markdown",
   "metadata": {},
   "source": [
    "Now let's pull a report for orders by product name"
   ]
  },
  {
   "cell_type": "code",
   "execution_count": null,
   "metadata": {},
   "outputs": [],
   "source": [
    "\n",
    "# Pick dimension and metric\n",
    "dimension = \"variables/product_name\"\n",
    "metric = \"metrics/orders\"\n",
    "dateRange = \"2024-01-01T00:00:00.000/2024-01-17T00:00:00.000\"\n",
    "\n",
    "# Define the report request\n",
    "myRequest = cjapy.RequestCreator()\n",
    "myRequest.setDataViewId(data_view)\n",
    "myRequest.setDimension(dimension)\n",
    "myRequest.addMetric(metric)\n",
    "myRequest.addGlobalFilter(dateRange)\n",
    "\n",
    "# Pull and print the report from CJA\n",
    "myReport = cja.getReport(myRequest)\n",
    "myReport.dataframe[[dimension, metric]]"
   ]
  },
  {
   "cell_type": "markdown",
   "metadata": {},
   "source": [
    "You can also pull the same data via the new BI connector for CJA using SQL! Some may find this approach easier if you're more familiar with SQL. Either way, the results you get will be exactly the same and hit CJA in the same way. Here's how you can do that:"
   ]
  },
  {
   "cell_type": "code",
   "execution_count": null,
   "metadata": {},
   "outputs": [],
   "source": [
    "from sqlalchemy import create_engine\n",
    "import pandas as pd\n",
    "\n",
    "# Create a connection to the PostgreSQL database\n",
    "username = '8F99160E571FC0427F000101@AdobeOrg'\n",
    "password = 'eNqrVkrMSVeyUgoKNjI1U9JRqjAtBfIyc4vj8xINdbNTK3UTS3QN9ZJTi4CS2ZkpWCSBEpklJUCJxBKlWgC4CRff.eNplUl1v4jAQ_C95ToId8ol0UlOgKrpCoYXSIKRosR1qGuIocShQ9b-fTeg9tH5I7FnvenZnPg1OjZ6BA4Sx67mo2w3DNPBdAt3Qt6iDqeX6GFtAmG9FbgDMQ8yFDUqbD8cwDXkqmcoHQlhdp1K8s0KhJOeskOmlNDuSFMpSoU3NqhYLvdDHw8j3u7jv4rsYxW7kDW_jm4A6Ac68SAUIIuAomBDHZiq7liD1U59ro1ZvcVGsjd7aeJOyrHudDt_XVgHYBio2LBdbXthE7DXcuV7vHHAnOcfueP7GJ8uhXM3j04ojtFqO0MM83yXLRE7mC5zsyOlxMHIm59X7wzPuz855_2kwPo53C_Q4yIdPu_g0Hg7R7PzuzuarOFk-HZL9okmcSK6NL0UVasXzSkgfoe36th_dDrrY8dwwGtwhR3Xdj8LYv7lw1nT16GRp9JBpZFuV8RpMR9PRfPU6nQbj-8Xf-_HsxXmNYy_5c1l6LK1-fuSgbhRgFEReSoBsHJ85Fs2ySOsXWsBIZCEgAWNh6GZhdtVvL7hK7wZeuAFPj7ncgALGjD4zMhHDF_NBfKitirBjyStWp7zQCvou0kszrphShqYgfxpJ0yOiNcjG3kMBW2Yqq4hGmYPkTS1ZZatsagKlXCqNIFflM_HzbO_EJs2agmjsV7CsxI4RRWFaCdoQ2ReFZEf5614lclabsR72aGBehs6FrbxZsS2vZXX65nIJKNNyExqqnExYy726YJd--YGpDkRDzX1Zm6rHglNTVNu2hP6k6gQFP4OmULdQSb7_NpDy_57uIZVQSSjMq1eNr3_uhysE.eNoBAAH__hDND82YXjHcBH7ZX4Tw9zcKAgr-oO_kpzvY5GV5CxeA0caRbd9TlgzlRbsjz0wwmMuCA8RQLhQytEmNKDH-4AmOhg3CgIxjwu9aVVJ1ouGTx6OwVRy335--crkWQRCnTULbGKxe5VhxIxsFOJ7awBmSUBoHBjyh2JygNCk2oI8c1lDfdScw_7r5yb5LyX9dSAa6ur94U3ssaL9qWA1Upn0GImJ44Xw881hHU4YjVSqE8xV2ZX1QHc1FhMXP8lbgsGjWEIVfRYOmCBCsNjvj5B6HBR-eLe-0soYOCQfnZDYsWQnbRMQuqabZwIgvibvIQx1B6AvTQsYecMZA2gfDWb36OHfe'\n",
    "host = 'amc.platform-query.adobe.io'\n",
    "port = 80\n",
    "dbname = 'prod:cja'\n",
    "engine = create_engine(f'postgresql://{username}:{password}@{host}:{port}/{dbname}')\n",
    "\n",
    "# Grab the list of Data Views available\n",
    "query = \"\"\"\n",
    "    SELECT tablename FROM pg_catalog.pg_tables WHERE schemaname != 'pg_catalog' AND schemaname != 'information_schema';\n",
    "\"\"\"\n",
    "df = pd.read_sql(query, engine)\n",
    "print(df)\n",
    "\n",
    "# Query the dataview and read the results\n",
    "query = \"\"\"\n",
    "    SELECT product_name, sum(orders) as orders\n",
    "    FROM dv_adobe_store\n",
    "    GROUP BY product_name\n",
    "    ORDER BY orders DESC\n",
    "\"\"\"\n",
    "df = pd.read_sql(query, engine)\n",
    "df"
   ]
  }
 ],
 "metadata": {
  "kernelspec": {
   "display_name": "Python 3",
   "language": "python",
   "name": "python3"
  },
  "language_info": {
   "codemirror_mode": {
    "name": "ipython",
    "version": 3
   },
   "file_extension": ".py",
   "mimetype": "text/x-python",
   "name": "python",
   "nbconvert_exporter": "python",
   "pygments_lexer": "ipython3",
   "version": "3.11.6"
  }
 },
 "nbformat": 4,
 "nbformat_minor": 2
}
